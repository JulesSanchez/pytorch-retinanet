{
 "cells": [
  {
   "cell_type": "code",
   "execution_count": 1,
   "metadata": {},
   "outputs": [
    {
     "name": "stdout",
     "output_type": "stream",
     "text": [
      "CUDA available: True\n"
     ]
    }
   ],
   "source": [
    "import argparse\n",
    "import collections\n",
    "\n",
    "import numpy as np\n",
    "\n",
    "import torch\n",
    "import torch.optim as optim\n",
    "from torchvision import transforms\n",
    "\n",
    "from retinanet import model\n",
    "from retinanet.dataloader import CocoDataset, CSVDataset, collater, Resizer, AspectRatioBasedSampler, Augmenter, \\\n",
    "    Normalizer\n",
    "from torch.utils.data import DataLoader\n",
    "\n",
    "from retinanet import coco_eval\n",
    "from retinanet import csv_eval\n",
    "\n",
    "assert torch.__version__.split('.')[0] == '1'\n",
    "\n",
    "print('CUDA available: {}'.format(torch.cuda.is_available()))"
   ]
  },
  {
   "cell_type": "code",
   "execution_count": 4,
   "metadata": {},
   "outputs": [
    {
     "name": "stdout",
     "output_type": "stream",
     "text": [
      "219/219\r"
     ]
    }
   ],
   "source": [
    "csv_inference = 'data/test_retinanet.csv'\n",
    "csv_classes = 'data/class_retinanet.csv'\n",
    "model_path = 'csv_retinanet_68.pt'\n",
    "dataset_inference = CSVDataset(train_file=csv_inference, class_list=csv_classes,\n",
    "                                   transform=transforms.Compose([Normalizer(), Resizer()]))\n",
    "\n",
    "sampler = AspectRatioBasedSampler(dataset_inference, batch_size=1, drop_last=False)\n",
    "dataloader_inference = DataLoader(dataset_inference, num_workers=3, collate_fn=collater, batch_sampler=sampler)\n",
    "use_gpu = True\n",
    "\n",
    "retinanet = torch.load(model_path)\n",
    "retinanet = retinanet.cuda()\n",
    "retinanet.training = False\n",
    "retinanet.eval()\n",
    "\n",
    "detect, style = csv_eval._get_detections(dataset_inference, retinanet)"
   ]
  },
  {
   "cell_type": "code",
   "execution_count": 11,
   "metadata": {},
   "outputs": [
    {
     "name": "stdout",
     "output_type": "stream",
     "text": [
      "219\n",
      "14\n",
      "2\n"
     ]
    }
   ],
   "source": [
    "print(len(detect))\n",
    "print(len(detect[0]))\n",
    "print(len(detect[0][1]))"
   ]
  },
  {
   "cell_type": "code",
   "execution_count": 12,
   "metadata": {},
   "outputs": [
    {
     "data": {
      "text/plain": [
       "array([[3.97607025e+02, 5.22449219e+02, 5.74884155e+02, 6.49325073e+02,\n",
       "        1.78484112e-01],\n",
       "       [4.13405701e+02, 5.81959167e+02, 5.51283020e+02, 6.59198608e+02,\n",
       "        9.94595811e-02]])"
      ]
     },
     "execution_count": 12,
     "metadata": {},
     "output_type": "execute_result"
    }
   ],
   "source": [
    "detect[0][1]"
   ]
  },
  {
   "cell_type": "code",
   "execution_count": 13,
   "metadata": {},
   "outputs": [
    {
     "data": {
      "text/plain": [
       "array([[3.83589905e+02, 4.93742096e+02, 5.77356262e+02, 6.58654236e+02,\n",
       "        1.09485075e-01],\n",
       "       [3.90395142e+02, 5.31563660e+02, 5.69669739e+02, 7.76171265e+02,\n",
       "        7.19911382e-02]])"
      ]
     },
     "execution_count": 13,
     "metadata": {},
     "output_type": "execute_result"
    }
   ],
   "source": [
    "detect[0][2]"
   ]
  },
  {
   "cell_type": "code",
   "execution_count": 18,
   "metadata": {},
   "outputs": [],
   "source": [
    "SUB_ELEMENTS = {\n",
    "    'arco-herradura':1,\n",
    "    'dintel-adovelado':2,\n",
    "    'arco-lobulado':3,\n",
    "    'arco-medio-punto':4,\n",
    "    'arco-apuntado':5,\n",
    "    'vano-adintelado':6,\n",
    "    'fronton':7,\n",
    "    'arco-conopial':8,\n",
    "    'arco-trilobulado':9,\n",
    "    'serliana':10,\n",
    "    'ojo-de-buey':11,\n",
    "    'fronton-curvo':12,\n",
    "    'fronton-partido':13,\n",
    "    'columna-salomonica':14\n",
    "}"
   ]
  },
  {
   "cell_type": "code",
   "execution_count": 31,
   "metadata": {},
   "outputs": [],
   "source": [
    "detection_folder = 'detections'\n",
    "gt_folder = 'gt'\n",
    "import os, csv\n",
    "os.makedirs(detection_folder, exist_ok=True)\n",
    "os.makedirs(gt_folder, exist_ok=True)\n",
    "\n",
    "labels=list(SUB_ELEMENTS.keys())\n",
    "\n",
    "for j in range(len(detect)):\n",
    "    detection_image = detect[j]\n",
    "    image_name = dataset_inference.image_names[j].split('/')[-1][:-4]\n",
    "    annot = dataset_inference.load_annotations(j)[0]\n",
    "    saved_gt = []\n",
    "    for g in range(len(annot)):\n",
    "        local_annot = annot[g]\n",
    "        local_gt = []\n",
    "        local_gt.append(labels[int(local_annot[-1])])\n",
    "        local_gt.append(int(local_annot[0]))\n",
    "        local_gt.append(int(local_annot[1]))\n",
    "        local_gt.append(int(local_annot[2]))\n",
    "        local_gt.append(int(local_annot[3]))\n",
    "        saved_gt.append(local_gt)\n",
    "    saved_detection = []\n",
    "    for k in range(len(detection_image)):\n",
    "        local_detect = detection_image[k]\n",
    "        label_name = labels[k]\n",
    "        for l in range(len(local_detect)):\n",
    "            local_saved_detect = []\n",
    "            relevant_detect = local_detect[l]\n",
    "            local_saved_detect.append(label_name)\n",
    "            local_saved_detect.append(relevant_detect[-1])\n",
    "            local_saved_detect.append(relevant_detect[0])\n",
    "            local_saved_detect.append(relevant_detect[1])\n",
    "            local_saved_detect.append(relevant_detect[2])\n",
    "            local_saved_detect.append(relevant_detect[3])\n",
    "            saved_detection.append(local_saved_detect)\n",
    "    with open(os.path.join(detection_folder,image_name + '.txt'), 'w') as f:\n",
    "            writer = csv.writer(f, delimiter=' ')\n",
    "            writer.writerows(saved_detection)\n",
    "    with open(os.path.join(gt_folder,image_name + '.txt'), 'w') as f:\n",
    "            writer = csv.writer(f, delimiter=' ')\n",
    "            writer.writerows(saved_gt)\n",
    "        "
   ]
  },
  {
   "cell_type": "code",
   "execution_count": null,
   "metadata": {},
   "outputs": [],
   "source": []
  }
 ],
 "metadata": {
  "kernelspec": {
   "display_name": "Python 3.7.6 64-bit ('base': conda)",
   "language": "python",
   "name": "python37664bitbasecondab003be3b3cc14792a70909b28513a836"
  },
  "language_info": {
   "codemirror_mode": {
    "name": "ipython",
    "version": 3
   },
   "file_extension": ".py",
   "mimetype": "text/x-python",
   "name": "python",
   "nbconvert_exporter": "python",
   "pygments_lexer": "ipython3",
   "version": "3.7.6"
  }
 },
 "nbformat": 4,
 "nbformat_minor": 4
}
